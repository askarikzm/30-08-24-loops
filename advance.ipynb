{
 "cells": [
  {
   "cell_type": "markdown",
   "metadata": {},
   "source": [
    "Advance Level:"
   ]
  },
  {
   "cell_type": "code",
   "execution_count": 4,
   "metadata": {},
   "outputs": [
    {
     "name": "stdout",
     "output_type": "stream",
     "text": [
      "55\n"
     ]
    }
   ],
   "source": [
    "#21. Create a program that calculates the sum of the digits of numbers in a list using a list comprehension\n",
    "list1=[1,2,3,4,5,6,7,8,9,10]\n",
    "tsum=0\n",
    "tsum=sum(int(i) for i in list1)\n",
    "print(tsum)"
   ]
  },
  {
   "cell_type": "code",
   "execution_count": 12,
   "metadata": {},
   "outputs": [
    {
     "name": "stdout",
     "output_type": "stream",
     "text": [
      "[1, 2, 3]\n"
     ]
    }
   ],
   "source": [
    "#22. Write a program to find the prime factors of a given number using a `for` loop and list comprehension.\n",
    "n=6\n",
    "list=[i for i in range(1, n + 1) if n % i == 0 and all(i % j != 0 for j in range(2, int(i**0.5) + 1))]\n",
    "print(list)"
   ]
  },
  {
   "cell_type": "code",
   "execution_count": 23,
   "metadata": {},
   "outputs": [
    {
     "name": "stdout",
     "output_type": "stream",
     "text": [
      "[2, 3, 4, 5, 6]\n"
     ]
    }
   ],
   "source": [
    "#23. Develop a program that extracts unique elements from a list and stores them in a new list using a list comprehension.\n",
    "list1=[1,1,2,3,4,5,6,7,7,8,8,9,9,10,10]\n",
    "list2=[i for i in list1 if list1.count(i)==1]\n",
    "print(list2)"
   ]
  },
  {
   "cell_type": "code",
   "execution_count": 29,
   "metadata": {},
   "outputs": [
    {
     "name": "stdout",
     "output_type": "stream",
     "text": [
      "[3, 3, 3, 3, 3, 3]\n"
     ]
    }
   ],
   "source": [
    "#24. Create a program that generates a list of all palindromic numbers up to a specified limit using a list comprehension\n",
    "n=6\n",
    "lis1=[3 for i in range(6) ]\n",
    "print(lis1)"
   ]
  },
  {
   "cell_type": "code",
   "execution_count": 39,
   "metadata": {},
   "outputs": [
    {
     "name": "stdout",
     "output_type": "stream",
     "text": [
      "Palindromic numbers up to 10 are: [0, 1, 2, 3, 4, 5, 6, 7, 8, 9]\n"
     ]
    }
   ],
   "source": [
    "# 25.Flatten a nested list.\n",
    "nested_list=[[1,2],[3,4],[4,5],[5,6]]\n",
    "list3=[i for j in nested_list for i in j ]\n",
    "print(list3)"
   ]
  },
  {
   "cell_type": "code",
   "execution_count": 3,
   "metadata": {},
   "outputs": [
    {
     "name": "stdout",
     "output_type": "stream",
     "text": [
      "30 25\n"
     ]
    }
   ],
   "source": [
    "#26. Develop a program that computes the sum of even and odd numbers in a list separately using list comprehion'\n",
    "list1=[1,2,3,4,5,6,7,8,9,10]\n",
    "even=[i for i in list1 if i%2==0]\n",
    "odd=[i for i in list1 if i%2!=0]\n",
    "print(sum(even),sum(odd))\n"
   ]
  },
  {
   "cell_type": "code",
   "execution_count": 4,
   "metadata": {},
   "outputs": [
    {
     "name": "stdout",
     "output_type": "stream",
     "text": [
      "[1, 9, 25, 49, 81]\n"
     ]
    }
   ],
   "source": [
    "#27. Create a program that generates a list of squares of odd numbers between 1 and 10 using list comprehension.\n",
    "list1=[1,2,3,4,5,6,7,8,9,10]\n",
    "odd_square=[i*i for i in list1 if i%2!=0]\n",
    "print(odd_square)"
   ]
  },
  {
   "cell_type": "code",
   "execution_count": 10,
   "metadata": {},
   "outputs": [
    {
     "name": "stdout",
     "output_type": "stream",
     "text": [
      "{'a': 10, 'b': 10, 'c': 10, 'd': 10, 'e': 10, 'f': 10, 'j': 10, 'h': 10, 'i': 10, 'l': 10}\n"
     ]
    }
   ],
   "source": [
    "#28. Write a program that combines two lists into a dictionary using list comprehension.\n",
    "list1=[1,2,3,4,5,6,7,8,9,10]\n",
    "list2=[\"a\",\"b\",\"c\",\"d\",\"e\",\"f\",\"j\",\"h\",\"i\",\"j\",\"l\"]\n",
    "x=dict([(i,j) for i in list2 for j in list1])\n",
    "print(x)\n"
   ]
  },
  {
   "cell_type": "code",
   "execution_count": 12,
   "metadata": {},
   "outputs": [
    {
     "name": "stdout",
     "output_type": "stream",
     "text": [
      "['a', 'e', 'i']\n"
     ]
    }
   ],
   "source": [
    "#29. Develop a program that extracts the vowels from a string and stores them in a list using list comprehension.\n",
    "x=\"my name is askari\"\n",
    "x2=\"aeiou\"\n",
    "list1=[i for i in x2 if i in x]\n",
    "print(list1)"
   ]
  },
  {
   "cell_type": "code",
   "execution_count": 27,
   "metadata": {},
   "outputs": [
    {
     "name": "stdout",
     "output_type": "stream",
     "text": [
      "[1, 2, 3]\n"
     ]
    }
   ],
   "source": [
    "#30. Create a program that removes all non-numeric characters from a list of strings using list comprehension.\n",
    "x=\"abcdefghijklmnopqrstuvwxyz!,.'# *\"\n",
    "x1=\"hello123world\"\n",
    "x1,x=list(x1),list(x)\n",
    "x1=[int(i) for i in x1 if i not in x]\n",
    "print(x1)"
   ]
  },
  {
   "cell_type": "markdown",
   "metadata": {},
   "source": [
    "Challenge Level:😨"
   ]
  },
  {
   "cell_type": "code",
   "execution_count": 41,
   "metadata": {},
   "outputs": [
    {
     "name": "stdout",
     "output_type": "stream",
     "text": [
      "Prime numbers up to 10 are: [2, 3, 5, 7]\n"
     ]
    }
   ],
   "source": [
    "#31. Write a program to generate a list of prime numbers using the Sieve of Eratosthenes algorithm and list comprehension\n",
    "n = int(input(\"Enter limit: \"))\n",
    "list1 = [True] * (n + 1)\n",
    "list1[0] = False\n",
    "list1[1] = False\n",
    "\n",
    "list2 = [i for i in range(2, int(n**0.5) + 1) for j in range(i*i, n + 1, i) if list1[i] and (list1.__setitem__(j, False))]\n",
    "primes = [i for i in range(2, n + 1) if list1[i]]\n",
    "print(\"Prime numbers up to\", n, \"are:\", primes)\n"
   ]
  },
  {
   "cell_type": "code",
   "execution_count": 47,
   "metadata": {},
   "outputs": [
    {
     "name": "stdout",
     "output_type": "stream",
     "text": [
      "[(1, 1, 2), (1, 2, 5), (1, 3, 10), (1, 4, 17), (2, 2, 8), (2, 3, 13), (2, 4, 20), (3, 3, 18), (3, 4, 25)]\n"
     ]
    }
   ],
   "source": [
    "#32. Create a program that generates a list of all Pythagorean triplets up to a specified limit using list comprehension.\n",
    "n = int(input(\"Enter limit: \"))\n",
    "list1=[i for i in range(1,n+1)]\n",
    "list2 = [(i,j,z) for i in range(1, n + 1) for j in range(i, n + 1) for z in range(j, n + 1) if i**2 + j**2 == z]\n",
    "print(list2)\n"
   ]
  },
  {
   "cell_type": "code",
   "execution_count": 56,
   "metadata": {},
   "outputs": [
    {
     "name": "stdout",
     "output_type": "stream",
     "text": [
      "[(2, 4), (3, 4), (1, 5), (1, 4), (2, 5), (3, 5)]\n"
     ]
    }
   ],
   "source": [
    "#33. Develop a program that generates a list of all possible combinations of two lists using list comprehension.\n",
    "list1=[1,2,3] #len=3\n",
    "list2=[4,5,4] #len=3 combination=3!+3!=12\n",
    "list3=[(i,j) for i in list1 for j in list2] \n",
    "print(list(set(list3))) #use set to remove same combination"
   ]
  },
  {
   "cell_type": "code",
   "execution_count": 80,
   "metadata": {},
   "outputs": [
    {
     "name": "stdout",
     "output_type": "stream",
     "text": [
      "mean of list=5.7\n",
      "median of list is [6]\n",
      "Mode of the list: [10]\n"
     ]
    }
   ],
   "source": [
    "#34. Write a program that calculates the mean, median, and mode of a list of numbers using list comprehension.\n",
    "list=[1,2,3,4,5,6,7,10,9,10]\n",
    "mean=(sum([i for i in list]))/len(list)\n",
    "print(f\"mean of list={mean}\")\n",
    "median=[int(list[i]) for i in range(len(list)//2,len(list)//2+1) ]\n",
    "print(f\"median of list is {median}\")\n",
    "counts = [list.count(i) for i in list]\n",
    "max_count = max(counts)\n",
    "mode_value = [i for i in set(list) if list.count(i) == max_count]\n",
    "print(f\"Mode of the list: {mode_value}\")"
   ]
  },
  {
   "cell_type": "code",
   "execution_count": 97,
   "metadata": {},
   "outputs": [
    {
     "name": "stdout",
     "output_type": "stream",
     "text": [
      "[[1], [1, 1], [1, 2, 1], [1, 3, 3, 1], [1, 4, 6, 4, 1]]\n",
      "[[1], [1, 1], [1, 2, 1], [1, 3, 3, 1], [1, 4, 6, 4, 1]]\n"
     ]
    }
   ],
   "source": [
    "#print pascal triangle upto spcifiec n using list comprhension\n",
    "n = 5\n",
    "\n",
    "pascal_triangle = [[1]]\n",
    "[pascal_triangle.append([1 if col == 0 or col == row else pascal_triangle[row - 1][col - 1] + pascal_triangle[row - 1][col]\n",
    "                         for col in range(row + 1)]) for row in range(1, n)]\n",
    "\n",
    "print(pascal_triangle)"
   ]
  },
  {
   "cell_type": "code",
   "execution_count": 109,
   "metadata": {},
   "outputs": [
    {
     "name": "stdout",
     "output_type": "stream",
     "text": [
      "[1, 2, 6, 6, 3]\n"
     ]
    }
   ],
   "source": [
    "from math import factorial\n",
    "n = 5\n",
    "digit_sums = [sum(int(digit) for digit in str(factorial(i))) for i in range(1, n + 1)]\n",
    "print(digit_sums)"
   ]
  },
  {
   "cell_type": "code",
   "execution_count": 113,
   "metadata": {},
   "outputs": [
    {
     "name": "stdout",
     "output_type": "stream",
     "text": [
      "13501\n"
     ]
    }
   ],
   "source": [
    "#39. Develop a program that calculates the sum of the digits of numbers from 1 to 1000 using list comprehension.\n",
    "\n",
    "total_sum = sum(sum(int(digit) for digit in str(num)) for num in range(1, 1001))\n",
    "print(total_sum) #nested sum\n"
   ]
  },
  {
   "cell_type": "code",
   "execution_count": 116,
   "metadata": {},
   "outputs": [
    {
     "name": "stdout",
     "output_type": "stream",
     "text": [
      "Prime Palindromic Numbers: [2, 3, 5, 7, 11, 101, 131, 151, 181, 191, 313, 353, 373, 383, 727, 757, 787, 797, 919, 929]\n"
     ]
    }
   ],
   "source": [
    "#40. Write a program that generates a list of prime palindromic numbers using list comprehension.\n",
    "def is_prime(num):\n",
    "    if num < 2:\n",
    "        return False\n",
    "    for i in range(2, int(num**0.5) + 1):\n",
    "        if num % i == 0:\n",
    "            return False\n",
    "    return True\n",
    "def is_palindrome(num):\n",
    "    return str(num) == str(num)[::-1] #check plaindrome\n",
    "prime_palindromes = [num for num in range(1, 1000) if is_prime(num) and is_palindrome(num)]\n",
    "print(\"Prime Palindromic Numbers:\", prime_palindromes)\n"
   ]
  }
 ],
 "metadata": {
  "kernelspec": {
   "display_name": "Python 3",
   "language": "python",
   "name": "python3"
  },
  "language_info": {
   "codemirror_mode": {
    "name": "ipython",
    "version": 3
   },
   "file_extension": ".py",
   "mimetype": "text/x-python",
   "name": "python",
   "nbconvert_exporter": "python",
   "pygments_lexer": "ipython3",
   "version": "3.9.6"
  }
 },
 "nbformat": 4,
 "nbformat_minor": 2
}
